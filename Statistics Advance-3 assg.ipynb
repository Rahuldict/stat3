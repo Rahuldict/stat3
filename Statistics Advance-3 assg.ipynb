{
 "cells": [
  {
   "cell_type": "code",
   "execution_count": 1,
   "id": "849f9da1-daff-4e95-a87d-a0a0e1c7abd6",
   "metadata": {},
   "outputs": [],
   "source": [
    "#Q1: What is Estimation Statistics? Explain point estimate and interval estimate.\n"
   ]
  },
  {
   "cell_type": "code",
   "execution_count": 9,
   "id": "1fc405d9-d07a-45a9-b955-0abed1802497",
   "metadata": {},
   "outputs": [
    {
     "data": {
      "text/plain": [
       "'Estimation statistics is a branch of statistics that deals with making inferences or predictions about population parameters based on sample data. It involves using sample statistics to estimate or make statements about population parameters.\\nPoint Estimate: A point estimate is a single value that is used to estimate a population parameter. For example, the sample mean (\\n�\\nˉ\\nx\\nˉ\\n ) is a point estimate of the population mean (\\n�\\nμ).\\nInterval Estimate: An interval estimate provides a range of values within which the population parameter is likely to fall. It includes a point estimate and a margin of error. For example, a confidence interval for the population mean might be given as \\n�\\nˉ\\n±\\n2\\nx\\nˉ\\n ±2, where \\n�\\nˉ\\nx\\nˉ\\n  is the point estimate, and 2 is the margin of error.'"
      ]
     },
     "execution_count": 9,
     "metadata": {},
     "output_type": "execute_result"
    }
   ],
   "source": [
    "'''Estimation statistics is a branch of statistics that deals with making inferences or predictions about population parameters based on sample data. It involves using sample statistics to estimate or make statements about population parameters.\n",
    "Point Estimate: A point estimate is a single value that is used to estimate a population parameter. For example, the sample mean (\n",
    "�\n",
    "ˉ\n",
    "x\n",
    "ˉ\n",
    " ) is a point estimate of the population mean (\n",
    "�\n",
    "μ).\n",
    "Interval Estimate: An interval estimate provides a range of values within which the population parameter is likely to fall. It includes a point estimate and a margin of error. For example, a confidence interval for the population mean might be given as \n",
    "�\n",
    "ˉ\n",
    "±\n",
    "2\n",
    "x\n",
    "ˉ\n",
    " ±2, where \n",
    "�\n",
    "ˉ\n",
    "x\n",
    "ˉ\n",
    "  is the point estimate, and 2 is the margin of error.'''"
   ]
  },
  {
   "cell_type": "code",
   "execution_count": 2,
   "id": "a6d0e813-2909-4d3b-b655-d995e2cf1a0e",
   "metadata": {},
   "outputs": [],
   "source": [
    "#Q2. Write a Python function to estimate the population mean using a sample mean and standard deviation.\n"
   ]
  },
  {
   "cell_type": "code",
   "execution_count": 10,
   "id": "526c04b2-530b-4165-a43c-07b0a50670cc",
   "metadata": {},
   "outputs": [],
   "source": [
    "def estimate_population_mean(sample_mean, sample_std_dev, sample_size):\n",
    "    \"\"\"\n",
    "    Estimate the population mean using a sample mean and standard deviation.\n",
    "\n",
    "    Parameters:\n",
    "    sample_mean (float): The sample mean.\n",
    "    sample_std_dev (float): The sample standard deviation.\n",
    "    sample_size (int): The sample size.\n",
    "\n",
    "    Returns:\n",
    "    float: Estimated population mean.\n",
    "    \"\"\"\n",
    "    estimated_population_mean = sample_mean\n",
    "    return estimated_population_mean\n"
   ]
  },
  {
   "cell_type": "code",
   "execution_count": 3,
   "id": "376a2f27-127a-4482-8a10-9fc10d476e6b",
   "metadata": {},
   "outputs": [],
   "source": [
    "#Q3: What is Hypothesis testing? Why is it used? State the importance of Hypothesis testing.\n"
   ]
  },
  {
   "cell_type": "code",
   "execution_count": 11,
   "id": "96745088-3d14-4fc0-8947-f6735f6249ca",
   "metadata": {},
   "outputs": [
    {
     "data": {
      "text/plain": [
       "'Hypothesis testing is a statistical method used to make inferences about population parameters based on sample data. It involves comparing observed data to what would be expected under a null hypothesis and drawing conclusions about the population based on the observed results.\\nImportance of Hypothesis Testing:\\nIt helps researchers make decisions and draw conclusions about population parameters.\\nIt provides a formal and objective way to test assumptions and hypotheses.\\nIt is a key tool in scientific research and allows us to assess the significance of relationships and effects in data.'"
      ]
     },
     "execution_count": 11,
     "metadata": {},
     "output_type": "execute_result"
    }
   ],
   "source": [
    "'''Hypothesis testing is a statistical method used to make inferences about population parameters based on sample data. It involves comparing observed data to what would be expected under a null hypothesis and drawing conclusions about the population based on the observed results.\n",
    "Importance of Hypothesis Testing:\n",
    "It helps researchers make decisions and draw conclusions about population parameters.\n",
    "It provides a formal and objective way to test assumptions and hypotheses.\n",
    "It is a key tool in scientific research and allows us to assess the significance of relationships and effects in data.'''"
   ]
  },
  {
   "cell_type": "code",
   "execution_count": 12,
   "id": "be7bec1a-849a-4b16-b254-0038c252bc47",
   "metadata": {},
   "outputs": [],
   "source": [
    "#Q4. Create a hypothesis that states whether the average weight of male college students is greater than the average weight of female college students.\n"
   ]
  },
  {
   "cell_type": "code",
   "execution_count": 13,
   "id": "f5166064-1fb2-44c7-84e5-a15e23890efb",
   "metadata": {},
   "outputs": [
    {
     "data": {
      "text/plain": [
       "'Null Hypothesis (\\n�\\n0\\nH \\n0\\n\\u200b\\n ): The average weight of male college students is equal to or less than the average weight of female college students.\\nAlternative Hypothesis (\\n�\\n1\\nH \\n1\\n\\u200b\\n  or \\n�\\n�\\nH \\na\\n\\u200b\\n ): The average weight of male college students is greater than the average weight of female college students.'"
      ]
     },
     "execution_count": 13,
     "metadata": {},
     "output_type": "execute_result"
    }
   ],
   "source": [
    "'''Null Hypothesis (\n",
    "�\n",
    "0\n",
    "H \n",
    "0\n",
    "​\n",
    " ): The average weight of male college students is equal to or less than the average weight of female college students.\n",
    "Alternative Hypothesis (\n",
    "�\n",
    "1\n",
    "H \n",
    "1\n",
    "​\n",
    "  or \n",
    "�\n",
    "�\n",
    "H \n",
    "a\n",
    "​\n",
    " ): The average weight of male college students is greater than the average weight of female college students.'''"
   ]
  },
  {
   "cell_type": "code",
   "execution_count": 5,
   "id": "558679c0-9ff9-43ec-9075-d33bbeb6f7e2",
   "metadata": {},
   "outputs": [],
   "source": [
    "#Q5. Write a Python script to conduct a hypothesis test on the difference between two population means, given a sample from each population.\n"
   ]
  },
  {
   "cell_type": "code",
   "execution_count": 14,
   "id": "075363e3-0adb-486c-8235-995df7671f10",
   "metadata": {},
   "outputs": [
    {
     "name": "stdout",
     "output_type": "stream",
     "text": [
      "Reject the null hypothesis\n"
     ]
    }
   ],
   "source": [
    "import scipy.stats as stats\n",
    "\n",
    "# Sample data from two populations\n",
    "sample1 = [72, 75, 78, 73, 70]  # Sample of male weights\n",
    "sample2 = [65, 68, 62, 64, 67]  # Sample of female weights\n",
    "\n",
    "# Perform a t-test for the difference in means\n",
    "t_stat, p_value = stats.ttest_ind(sample1, sample2)\n",
    "\n",
    "# Check the p-value for significance\n",
    "if p_value < 0.05:  # Choose your significance level (e.g., 0.05)\n",
    "    print(\"Reject the null hypothesis\")\n",
    "else:\n",
    "    print(\"Fail to reject the null hypothesis\")\n"
   ]
  },
  {
   "cell_type": "code",
   "execution_count": 6,
   "id": "57e04aae-7778-42ca-836c-91a07219ca5c",
   "metadata": {},
   "outputs": [],
   "source": [
    "#Q6: What is a null and alternative hypothesis? Give some examples.\n"
   ]
  },
  {
   "cell_type": "code",
   "execution_count": 15,
   "id": "24e884b3-7cd7-42f6-b2f6-bb4c9ab1a218",
   "metadata": {},
   "outputs": [
    {
     "data": {
      "text/plain": [
       "'Null Hypothesis (\\n�\\n0\\nH \\n0\\n\\u200b\\n ): It is a statement of no effect or no difference. It represents the status quo or the absence of an effect. Example: \\n�\\n0\\nH \\n0\\n\\u200b\\n : The new drug has no effect on blood pressure.\\nAlternative Hypothesis (\\n�\\n1\\nH \\n1\\n\\u200b\\n  or \\n�\\n�\\nH \\na\\n\\u200b\\n ): It is a statement that contradicts the null hypothesis and represents the presence of an effect or a difference. Example: \\n�\\n1\\nH \\n1\\n\\u200b\\n : The new drug lowers blood pressure.'"
      ]
     },
     "execution_count": 15,
     "metadata": {},
     "output_type": "execute_result"
    }
   ],
   "source": [
    "'''Null Hypothesis (\n",
    "�\n",
    "0\n",
    "H \n",
    "0\n",
    "​\n",
    " ): It is a statement of no effect or no difference. It represents the status quo or the absence of an effect. Example: \n",
    "�\n",
    "0\n",
    "H \n",
    "0\n",
    "​\n",
    " : The new drug has no effect on blood pressure.\n",
    "Alternative Hypothesis (\n",
    "�\n",
    "1\n",
    "H \n",
    "1\n",
    "​\n",
    "  or \n",
    "�\n",
    "�\n",
    "H \n",
    "a\n",
    "​\n",
    " ): It is a statement that contradicts the null hypothesis and represents the presence of an effect or a difference. Example: \n",
    "�\n",
    "1\n",
    "H \n",
    "1\n",
    "​\n",
    " : The new drug lowers blood pressure.'''"
   ]
  },
  {
   "cell_type": "code",
   "execution_count": 7,
   "id": "10192ee0-9095-4777-8931-252b46972a0a",
   "metadata": {},
   "outputs": [],
   "source": [
    "#Q7: Write down the steps involved in hypothesis testing.\n"
   ]
  },
  {
   "cell_type": "code",
   "execution_count": 17,
   "id": "938f7617-ac8c-40af-9574-b19ee23e31ac",
   "metadata": {},
   "outputs": [
    {
     "data": {
      "text/plain": [
       "'Formulate the null hypothesis (\\n�\\n0\\nH \\n0\\n\\u200b\\n ) and alternative hypothesis (\\n�\\n1\\nH \\n1\\n\\u200b\\n ).\\nCollect sample data.\\nChoose a significance level (\\n�\\nα), which represents the probability of making a Type I error (rejecting a true null hypothesis).\\nPerform a statistical test using the sample data and calculate the test statistic.\\nDetermine the p-value associated with the test statistic.\\nCompare the p-value to the chosen significance level (\\n�\\nα):\\nIf \\n�\\n≤\\n�\\np≤α, reject the null hypothesis.\\nIf \\n�\\n>\\n�\\np>α, fail to reject the null hypothesis.\\nDraw conclusions based on the results'"
      ]
     },
     "execution_count": 17,
     "metadata": {},
     "output_type": "execute_result"
    }
   ],
   "source": [
    "'''Formulate the null hypothesis (\n",
    "�\n",
    "0\n",
    "H \n",
    "0\n",
    "​\n",
    " ) and alternative hypothesis (\n",
    "�\n",
    "1\n",
    "H \n",
    "1\n",
    "​\n",
    " ).\n",
    "Collect sample data.\n",
    "Choose a significance level (\n",
    "�\n",
    "α), which represents the probability of making a Type I error (rejecting a true null hypothesis).\n",
    "Perform a statistical test using the sample data and calculate the test statistic.\n",
    "Determine the p-value associated with the test statistic.\n",
    "Compare the p-value to the chosen significance level (\n",
    "�\n",
    "α):\n",
    "If \n",
    "�\n",
    "≤\n",
    "�\n",
    "p≤α, reject the null hypothesis.\n",
    "If \n",
    "�\n",
    ">\n",
    "�\n",
    "p>α, fail to reject the null hypothesis.\n",
    "Draw conclusions based on the results'''"
   ]
  },
  {
   "cell_type": "code",
   "execution_count": 8,
   "id": "1d7e7c65-fb8e-454f-9ffd-07470f4c1d28",
   "metadata": {},
   "outputs": [],
   "source": [
    "#Q8. Define p-value and explain its significance in hypothesis testing."
   ]
  },
  {
   "cell_type": "code",
   "execution_count": 18,
   "id": "a3671038-562c-4472-b461-bfc82c704ea3",
   "metadata": {},
   "outputs": [
    {
     "data": {
      "text/plain": [
       "'The p-value is a probability that measures the evidence against the null hypothesis. It quantifies how likely it is to observe the sample data (or more extreme results) if the null hypothesis is true.\\nSignificance in Hypothesis Testing:\\nA small p-value (typically less than the chosen significance level, such as 0.05) suggests strong evidence against the null hypothesis, leading to its rejection.\\nA large p-value suggests weak evidence against the null hypothesis, leading to a failure to reject the null hypothesis.\\nThe p-value helps researchers make decisions about the significance of their findings and the strength of the evidence in favor of the alternative hypothesis'"
      ]
     },
     "execution_count": 18,
     "metadata": {},
     "output_type": "execute_result"
    }
   ],
   "source": [
    "'''The p-value is a probability that measures the evidence against the null hypothesis. It quantifies how likely it is to observe the sample data (or more extreme results) if the null hypothesis is true.\n",
    "Significance in Hypothesis Testing:\n",
    "A small p-value (typically less than the chosen significance level, such as 0.05) suggests strong evidence against the null hypothesis, leading to its rejection.\n",
    "A large p-value suggests weak evidence against the null hypothesis, leading to a failure to reject the null hypothesis.\n",
    "The p-value helps researchers make decisions about the significance of their findings and the strength of the evidence in favor of the alternative hypothesis'''"
   ]
  },
  {
   "cell_type": "code",
   "execution_count": 19,
   "id": "4275e3f4-bc01-443f-9124-e8840affe6cc",
   "metadata": {},
   "outputs": [],
   "source": [
    "#Q9. Generate a Student's t-distribution plot using Python's matplotlib library, with the degrees of freedom parameter set to 10.\n",
    "\n"
   ]
  },
  {
   "cell_type": "code",
   "execution_count": 28,
   "id": "22828078-efdf-44c7-8f35-ddaf08bff4f8",
   "metadata": {},
   "outputs": [
    {
     "data": {
      "image/png": "[encoded data removed]",
      "text/plain": [
       "<Figure size 640x480 with 1 Axes>"
      ]
     },
     "metadata": {},
     "output_type": "display_data"
    }
   ],
   "source": [
    "import numpy as np\n",
    "import matplotlib.pyplot as plt\n",
    "from scipy.stats import t\n",
    "\n",
    "# Degrees of freedom\n",
    "df = 10\n",
    "\n",
    "# Generate x values for the plot\n",
    "x = np.linspace(-4, 4, 1000)\n",
    "\n",
    "# Calculate the probability density function (PDF) of the t-distribution\n",
    "pdf = t.pdf(x, df)\n",
    "\n",
    "# Create the plot\n",
    "plt.plot(x, pdf, label=f't-Distribution (df={df})')\n",
    "plt.xlabel('x')\n",
    "plt.ylabel('PDF')\n",
    "plt.title('Student\\'s t-Distribution')\n",
    "plt.legend()\n",
    "plt.grid(True)\n",
    "plt.show()\n"
   ]
  },
  {
   "cell_type": "code",
   "execution_count": 20,
   "id": "aead0295-7ff4-404c-8b8e-7cc00f088a9f",
   "metadata": {},
   "outputs": [],
   "source": [
    "#Q10. Write a Python program to calculate the two-sample t-test for independent samples, given two random samples of equal size and a null hypothesis that the population means are equal.\n",
    "\n"
   ]
  },
  {
   "cell_type": "code",
   "execution_count": 29,
   "id": "0ec7fe5d-78ac-4210-9121-652b9fac01b2",
   "metadata": {},
   "outputs": [
    {
     "name": "stdout",
     "output_type": "stream",
     "text": [
      "Fail to reject the null hypothesis: Population means are equal.\n"
     ]
    }
   ],
   "source": [
    "import numpy as np\n",
    "from scipy.stats import ttest_ind\n",
    "\n",
    "# Generate two random samples\n",
    "sample1 = np.random.normal(50, 10, size=30)\n",
    "sample2 = np.random.normal(50, 10, size=30)\n",
    "\n",
    "# Perform two-sample t-test\n",
    "t_statistic, p_value = ttest_ind(sample1, sample2)\n",
    "\n",
    "# Set the significance level\n",
    "alpha = 0.05\n",
    "\n",
    "# Check the p-value for significance\n",
    "if p_value < alpha:\n",
    "    print(\"Reject the null hypothesis: Population means are not equal.\")\n",
    "else:\n",
    "    print(\"Fail to reject the null hypothesis: Population means are equal.\")\n"
   ]
  },
  {
   "cell_type": "code",
   "execution_count": 21,
   "id": "e8013285-8f26-4340-bd61-565414167e14",
   "metadata": {},
   "outputs": [],
   "source": [
    "#Q11: What is Student’s t distribution? When to use the t-Distribution.\n",
    "\n"
   ]
  },
  {
   "cell_type": "code",
   "execution_count": 30,
   "id": "4f5c420d-f58b-49ca-84cb-ab70411c2950",
   "metadata": {},
   "outputs": [
    {
     "data": {
      "text/plain": [
       "\"The Student's t-distribution is a probability distribution that arises in hypothesis testing when the population standard deviation is unknown and must be estimated from the sample data.\\nWhen to use the t-Distribution:\\nIt is used when dealing with small sample sizes (typically n < 30) and when the population standard deviation is unknown.\\nIt is commonly used for confidence intervals and hypothesis tests involving sample means.\""
      ]
     },
     "execution_count": 30,
     "metadata": {},
     "output_type": "execute_result"
    }
   ],
   "source": [
    "'''The Student's t-distribution is a probability distribution that arises in hypothesis testing when the population standard deviation is unknown and must be estimated from the sample data.\n",
    "When to use the t-Distribution:\n",
    "It is used when dealing with small sample sizes (typically n < 30) and when the population standard deviation is unknown.\n",
    "It is commonly used for confidence intervals and hypothesis tests involving sample means.'''"
   ]
  },
  {
   "cell_type": "code",
   "execution_count": 31,
   "id": "bd12c344-0fbf-4798-8315-93879edf9425",
   "metadata": {},
   "outputs": [],
   "source": [
    "#Q12: What is t-statistic? State the formula for t-statistic.\n"
   ]
  },
  {
   "cell_type": "code",
   "execution_count": 32,
   "id": "1d481bce-885a-4b3c-af5e-9b2705f37cd8",
   "metadata": {},
   "outputs": [
    {
     "data": {
      "text/plain": [
       "'The t-statistic is a measure used in hypothesis testing to determine if the sample mean is significantly different from a known or hypothesized population mean.\\nFormula for the t-statistic when comparing a sample mean (\\n�\\nˉ\\nx\\nˉ\\n ) to a population mean (\\n�\\nμ):\\n�\\n=\\n�\\nˉ\\n−\\n�\\n�\\n/\\n�\\nt= \\ns/ \\nn\\n\\u200b\\n \\nx\\nˉ\\n −μ\\n\\u200b\\n \\nHere, \\n�\\ns is the sample standard deviation, \\n�\\nn is the sample size, \\n�\\nˉ\\nx\\nˉ\\n  is the sample mean, and \\n�\\nμ is the population mean.'"
      ]
     },
     "execution_count": 32,
     "metadata": {},
     "output_type": "execute_result"
    }
   ],
   "source": [
    "'''The t-statistic is a measure used in hypothesis testing to determine if the sample mean is significantly different from a known or hypothesized population mean.\n",
    "Formula for the t-statistic when comparing a sample mean (\n",
    "�\n",
    "ˉ\n",
    "x\n",
    "ˉ\n",
    " ) to a population mean (\n",
    "�\n",
    "μ):\n",
    "�\n",
    "=\n",
    "�\n",
    "ˉ\n",
    "−\n",
    "�\n",
    "�\n",
    "/\n",
    "�\n",
    "t= \n",
    "s/ \n",
    "n\n",
    "​\n",
    " \n",
    "x\n",
    "ˉ\n",
    " −μ\n",
    "​\n",
    " \n",
    "Here, \n",
    "�\n",
    "s is the sample standard deviation, \n",
    "�\n",
    "n is the sample size, \n",
    "�\n",
    "ˉ\n",
    "x\n",
    "ˉ\n",
    "  is the sample mean, and \n",
    "�\n",
    "μ is the population mean.'''"
   ]
  },
  {
   "cell_type": "code",
   "execution_count": 33,
   "id": "8987be1f-4026-4b25-ae13-51c4ce107af5",
   "metadata": {},
   "outputs": [],
   "source": [
    "\n",
    "#Q13. A coffee shop owner wants to estimate the average daily revenue for their shop. They take a random sample of 50 days and find the sample mean revenue to be $500 with a standard deviation of $50. Estimate the population mean revenue with a 95% confidence interval."
   ]
  },
  {
   "cell_type": "code",
   "execution_count": 34,
   "id": "7f33bbee-dbed-4627-954a-d303f6df1a1d",
   "metadata": {},
   "outputs": [
    {
     "data": {
      "text/plain": [
       "'Sample mean (\\n�\\nˉ\\nx\\nˉ\\n ) = $500\\nSample standard deviation (\\n�\\ns) = $50\\nSample size (\\n�\\nn) = 50\\nConfidence level (\\n1\\n−\\n�\\n1−α) = 95%, which corresponds to a significance level (\\n�\\nα) of 0.05.\\nYou can use the formula for a confidence interval for the population mean:\\n\\nConfidence Interval\\n=\\n�\\nˉ\\n±\\n(\\n�\\n⋅\\n�\\n�\\n)\\nConfidence Interval= \\nx\\nˉ\\n ±( \\nn\\n\\u200b\\n \\nz⋅s\\n\\u200b\\n )\\n\\nwhere \\n�\\nz is the critical value corresponding to the desired confidence level. For a 95% confidence interval, \\n�\\n≈\\n1.96\\nz≈1.96 (from the standard normal distribution).\\n\\nSubstitute the values into the formula:\\n\\nConfidence Interval\\n=\\n500\\n±\\n(\\n1.96\\n⋅\\n50\\n50\\n)\\nConfidence Interval=500±( \\n50\\n\\u200b\\n \\n1.96⋅50\\n\\u200b\\n )\\n\\nCalculate the interval:\\n\\nConfidence Interval\\n≈\\n500\\n±\\n13.96\\nConfidence Interval≈500±13.96\\n\\nSo, the 95% confidence interval for the population mean revenue is approximately $486.04 to $513.96.'"
      ]
     },
     "execution_count": 34,
     "metadata": {},
     "output_type": "execute_result"
    }
   ],
   "source": [
    "'''Sample mean (\n",
    "�\n",
    "ˉ\n",
    "x\n",
    "ˉ\n",
    " ) = $500\n",
    "Sample standard deviation (\n",
    "�\n",
    "s) = $50\n",
    "Sample size (\n",
    "�\n",
    "n) = 50\n",
    "Confidence level (\n",
    "1\n",
    "−\n",
    "�\n",
    "1−α) = 95%, which corresponds to a significance level (\n",
    "�\n",
    "α) of 0.05.\n",
    "You can use the formula for a confidence interval for the population mean:\n",
    "\n",
    "Confidence Interval\n",
    "=\n",
    "�\n",
    "ˉ\n",
    "±\n",
    "(\n",
    "�\n",
    "⋅\n",
    "�\n",
    "�\n",
    ")\n",
    "Confidence Interval= \n",
    "x\n",
    "ˉ\n",
    " ±( \n",
    "n\n",
    "​\n",
    " \n",
    "z⋅s\n",
    "​\n",
    " )\n",
    "\n",
    "where \n",
    "�\n",
    "z is the critical value corresponding to the desired confidence level. For a 95% confidence interval, \n",
    "�\n",
    "≈\n",
    "1.96\n",
    "z≈1.96 (from the standard normal distribution).\n",
    "\n",
    "Substitute the values into the formula:\n",
    "\n",
    "Confidence Interval\n",
    "=\n",
    "500\n",
    "±\n",
    "(\n",
    "1.96\n",
    "⋅\n",
    "50\n",
    "50\n",
    ")\n",
    "Confidence Interval=500±( \n",
    "50\n",
    "​\n",
    " \n",
    "1.96⋅50\n",
    "​\n",
    " )\n",
    "\n",
    "Calculate the interval:\n",
    "\n",
    "Confidence Interval\n",
    "≈\n",
    "500\n",
    "±\n",
    "13.96\n",
    "Confidence Interval≈500±13.96\n",
    "\n",
    "So, the 95% confidence interval for the population mean revenue is approximately $486.04 to $513.96.'''"
   ]
  },
  {
   "cell_type": "code",
   "execution_count": 24,
   "id": "d499366c-2555-4f97-80de-002fe9bcbd52",
   "metadata": {},
   "outputs": [],
   "source": [
    "\n",
    "\n",
    "#Q14. A researcher hypothesizes that a new drug will decrease blood pressure by 10 mmHg. They conduct a clinical trial with 100 patients and find that the sample mean decrease in blood pressure is 8 mmHg with a standard deviation of 3 mmHg. Test the hypothesis with a significance level of 0.05.\n"
   ]
  },
  {
   "cell_type": "code",
   "execution_count": 35,
   "id": "d1c509cd-16ad-4cf2-b2a2-43c68b961fd3",
   "metadata": {},
   "outputs": [
    {
     "data": {
      "text/plain": [
       "'Null Hypothesis (\\n�\\n0\\nH \\n0\\n\\u200b\\n ): The new drug does not decrease blood pressure by 10 mmHg.\\nAlternative Hypothesis (\\n�\\n1\\nH \\n1\\n\\u200b\\n ): The new drug decreases blood pressure by 10 mmHg.\\nYou can perform a one-sample t-test to compare the sample mean decrease in blood pressure to the hypothesized decrease of 10 mmHg.'"
      ]
     },
     "execution_count": 35,
     "metadata": {},
     "output_type": "execute_result"
    }
   ],
   "source": [
    "'''Null Hypothesis (\n",
    "�\n",
    "0\n",
    "H \n",
    "0\n",
    "​\n",
    " ): The new drug does not decrease blood pressure by 10 mmHg.\n",
    "Alternative Hypothesis (\n",
    "�\n",
    "1\n",
    "H \n",
    "1\n",
    "​\n",
    " ): The new drug decreases blood pressure by 10 mmHg.\n",
    "You can perform a one-sample t-test to compare the sample mean decrease in blood pressure to the hypothesized decrease of 10 mmHg.'''"
   ]
  },
  {
   "cell_type": "code",
   "execution_count": 25,
   "id": "22722186-3a2c-4327-b20d-1605f51008b0",
   "metadata": {},
   "outputs": [],
   "source": [
    "\n",
    "#Q15. An electronics company produces a certain type of product with a mean weight of 5 pounds and a standard deviation of 0.5 pounds. A random sample of 25 products is taken, and the sample mean weight is found to be 4.8 pounds. Test the hypothesis that the true mean weight of the products is less than 5 pounds with a significance level of 0.01.\n"
   ]
  },
  {
   "cell_type": "code",
   "execution_count": 36,
   "id": "0994fa90-4a1e-422e-ad69-d8c007af3d7d",
   "metadata": {},
   "outputs": [
    {
     "data": {
      "text/plain": [
       "'Null Hypothesis (\\n�\\n0\\nH \\n0\\n\\u200b\\n ): The true mean weight (\\n�\\nμ) of the products is equal to or greater than 5 pounds.\\nAlternative Hypothesis (\\n�\\n1\\nH \\n1\\n\\u200b\\n ): The true mean weight (\\n�\\nμ) of the products is less than 5 pounds.\\nYou can perform a one-sample t-test to compare the sample mean weight to the hypothesized value of 5 pounds.'"
      ]
     },
     "execution_count": 36,
     "metadata": {},
     "output_type": "execute_result"
    }
   ],
   "source": [
    "'''Null Hypothesis (\n",
    "�\n",
    "0\n",
    "H \n",
    "0\n",
    "​\n",
    " ): The true mean weight (\n",
    "�\n",
    "μ) of the products is equal to or greater than 5 pounds.\n",
    "Alternative Hypothesis (\n",
    "�\n",
    "1\n",
    "H \n",
    "1\n",
    "​\n",
    " ): The true mean weight (\n",
    "�\n",
    "μ) of the products is less than 5 pounds.\n",
    "You can perform a one-sample t-test to compare the sample mean weight to the hypothesized value of 5 pounds.'''"
   ]
  },
  {
   "cell_type": "code",
   "execution_count": 26,
   "id": "44479c31-87c6-43cc-9ce8-066374960cfe",
   "metadata": {},
   "outputs": [],
   "source": [
    "\n",
    "#Q16. Two groups of students are given different study materials to prepare for a test. The first group (n1 = 30) has a mean score of 80 with a standard deviation of 10, and the second group (n2 = 40) has a mean score of 75 with a standard deviation of 8. Test the hypothesis that the population means for the two groups are equal with a significance level of 0.01.\n"
   ]
  },
  {
   "cell_type": "code",
   "execution_count": 37,
   "id": "c3c3faa5-987a-4155-942f-98a48c89d18f",
   "metadata": {},
   "outputs": [
    {
     "data": {
      "text/plain": [
       "'Null Hypothesis (\\n�\\n0\\nH \\n0\\n\\u200b\\n ): \\n�\\n1\\n=\\n�\\n2\\nμ \\n1\\n\\u200b\\n =μ \\n2\\n\\u200b\\n  (The population means for the two groups are equal).\\nAlternative Hypothesis (\\n�\\n1\\nH \\n1\\n\\u200b\\n ): \\n�\\n1\\n≠\\n�\\n2\\nμ \\n1\\n\\u200b\\n \\n\\ue020\\n=μ \\n2\\n\\u200b\\n  (The population means for the two groups are not equal).\\nYou can perform a two-sample t-test to compare the means of the two groups and test if they are significantly different'"
      ]
     },
     "execution_count": 37,
     "metadata": {},
     "output_type": "execute_result"
    }
   ],
   "source": [
    "'''Null Hypothesis (\n",
    "�\n",
    "0\n",
    "H \n",
    "0\n",
    "​\n",
    " ): \n",
    "�\n",
    "1\n",
    "=\n",
    "�\n",
    "2\n",
    "μ \n",
    "1\n",
    "​\n",
    " =μ \n",
    "2\n",
    "​\n",
    "  (The population means for the two groups are equal).\n",
    "Alternative Hypothesis (\n",
    "�\n",
    "1\n",
    "H \n",
    "1\n",
    "​\n",
    " ): \n",
    "�\n",
    "1\n",
    "≠\n",
    "�\n",
    "2\n",
    "μ \n",
    "1\n",
    "​\n",
    " \n",
    "\n",
    "=μ \n",
    "2\n",
    "​\n",
    "  (The population means for the two groups are not equal).\n",
    "You can perform a two-sample t-test to compare the means of the two groups and test if they are significantly different'''"
   ]
  },
  {
   "cell_type": "code",
   "execution_count": 27,
   "id": "cb60bf7a-e564-4234-9e78-79a0e7609b9a",
   "metadata": {},
   "outputs": [],
   "source": [
    "\n",
    "#Q17. A marketing company wants to estimate the average number of ads watched by viewers during a TV program. They take a random sample of 50 viewers and find that the sample mean is 4 with a standard deviation of 1.5. Estimate the population mean with a 99% confidence interval."
   ]
  },
  {
   "cell_type": "code",
   "execution_count": 38,
   "id": "8ac4072d-48e7-47c4-b0b0-852f034524f9",
   "metadata": {},
   "outputs": [
    {
     "data": {
      "text/plain": [
       "'Sample mean (\\n�\\nˉ\\nx\\nˉ\\n ) = 4\\nSample standard deviation (\\n�\\ns) = 1.5\\nSample size (\\n�\\nn) = 50\\nConfidence level (\\n1\\n−\\n�\\n1−α) = 99%, which corresponds to a significance level (\\n�\\nα) of 0.01.\\nYou can use the formula for a confidence interval for the population mean:\\n\\nConfidence Interval\\n=\\n�\\nˉ\\n±\\n(\\n�\\n⋅\\n�\\n�\\n)\\nConfidence Interval= \\nx\\nˉ\\n ±( \\nn\\n\\u200b\\n \\nz⋅s\\n\\u200b\\n )\\n\\nwhere \\n�\\nz is the critical value corresponding to the desired confidence level. For a 99% confidence interval, \\n�\\n≈\\n2.576\\nz≈2.576 (from the standard normal distribution).\\n\\nSubstitute the values into the formula:\\n\\nConfidence Interval\\n=\\n4\\n±\\n(\\n2.576\\n⋅\\n1.5\\n50\\n)\\nConfidence Interval=4±( \\n50\\n\\u200b\\n \\n2.576⋅1.5\\n\\u200b\\n )\\n\\nCalculate the interval:\\n\\nConfidence Interval\\n≈\\n3.659\\n�\\n�\\n4.341\\nConfidence Interval≈3.659to4.341\\n\\nSo, the 99% confidence interval for the population mean number of ads watched by viewers is approximately 3.659 to 4.341.\\n\\n\\n\\n\\n'"
      ]
     },
     "execution_count": 38,
     "metadata": {},
     "output_type": "execute_result"
    }
   ],
   "source": [
    "'''Sample mean (\n",
    "�\n",
    "ˉ\n",
    "x\n",
    "ˉ\n",
    " ) = 4\n",
    "Sample standard deviation (\n",
    "�\n",
    "s) = 1.5\n",
    "Sample size (\n",
    "�\n",
    "n) = 50\n",
    "Confidence level (\n",
    "1\n",
    "−\n",
    "�\n",
    "1−α) = 99%, which corresponds to a significance level (\n",
    "�\n",
    "α) of 0.01.\n",
    "You can use the formula for a confidence interval for the population mean:\n",
    "\n",
    "Confidence Interval\n",
    "=\n",
    "�\n",
    "ˉ\n",
    "±\n",
    "(\n",
    "�\n",
    "⋅\n",
    "�\n",
    "�\n",
    ")\n",
    "Confidence Interval= \n",
    "x\n",
    "ˉ\n",
    " ±( \n",
    "n\n",
    "​\n",
    " \n",
    "z⋅s\n",
    "​\n",
    " )\n",
    "\n",
    "where \n",
    "�\n",
    "z is the critical value corresponding to the desired confidence level. For a 99% confidence interval, \n",
    "�\n",
    "≈\n",
    "2.576\n",
    "z≈2.576 (from the standard normal distribution).\n",
    "\n",
    "Substitute the values into the formula:\n",
    "\n",
    "Confidence Interval\n",
    "=\n",
    "4\n",
    "±\n",
    "(\n",
    "2.576\n",
    "⋅\n",
    "1.5\n",
    "50\n",
    ")\n",
    "Confidence Interval=4±( \n",
    "50\n",
    "​\n",
    " \n",
    "2.576⋅1.5\n",
    "​\n",
    " )\n",
    "\n",
    "Calculate the interval:\n",
    "\n",
    "Confidence Interval\n",
    "≈\n",
    "3.659\n",
    "�\n",
    "�\n",
    "4.341\n",
    "Confidence Interval≈3.659to4.341\n",
    "\n",
    "So, the 99% confidence interval for the population mean number of ads watched by viewers is approximately 3.659 to 4.341.\n",
    "\n",
    "\n",
    "\n",
    "\n",
    "'''"
   ]
  },
  {
   "cell_type": "code",
   "execution_count": null,
   "id": "79227622-c3cb-412e-a99e-03191a7df8e0",
   "metadata": {},
   "outputs": [],
   "source": []
  }
 ],
 "metadata": {
  "kernelspec": {
   "display_name": "Python 3 (ipykernel)",
   "language": "python",
   "name": "python3"
  },
  "language_info": {
   "codemirror_mode": {
    "name": "ipython",
    "version": 3
   },
   "file_extension": ".py",
   "mimetype": "text/x-python",
   "name": "python",
   "nbconvert_exporter": "python",
   "pygments_lexer": "ipython3",
   "version": "3.10.8"
  }
 },
 "nbformat": 4,
 "nbformat_minor": 5
}
